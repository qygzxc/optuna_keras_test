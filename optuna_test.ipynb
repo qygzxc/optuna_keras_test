{
 "cells": [
  {
   "cell_type": "code",
   "execution_count": null,
   "metadata": {},
   "outputs": [],
   "source": [
    "#ライブラリのインポート\n",
    "import optuna\n",
    "import keras.backend as K\n",
    "from keras.datasets import fashion_mnist\n",
    "from keras.layers import Convolution2D, Input, Dense, GlobalAveragePooling2D\n",
    "from keras.models import Model\n",
    "from keras.utils import to_categorical"
   ]
  },
  {
   "cell_type": "code",
   "execution_count": 2,
   "metadata": {},
   "outputs": [
    {
     "name": "stdout",
     "output_type": "stream",
     "text": [
      "(60000, 28, 28) (60000,) (10000, 28, 28) (10000,)\n",
      "(60000, 28, 28, 1) (60000, 10) (10000, 28, 28, 1) (10000, 10)\n"
     ]
    }
   ],
   "source": [
    "#学習用データの前処理\n",
    "(train_x, train_y), (test_x, test_y) = fashion_mnist.load_data()\n",
    "print(train_x.shape, train_y.shape, test_x.shape, test_y.shape)\n",
    "\n",
    "train_x = train_x.reshape(-1,28,28,1)\n",
    "test_x = test_x.reshape(-1,28,28,1)\n",
    "train_y = to_categorical(train_y)\n",
    "test_y = to_categorical(test_y)\n",
    "print(train_x.shape, train_y.shape, test_x.shape, test_y.shape)"
   ]
  },
  {
   "cell_type": "code",
   "execution_count": 3,
   "metadata": {},
   "outputs": [],
   "source": [
    "def create_model(num_layer, activation, mid_units, num_filters):\n",
    "    \"\"\"\n",
    "    num_layer : 畳込み層の数\n",
    "    activation : 活性化関数\n",
    "    mid_units : FC層のユニット数\n",
    "    num_filters : 各畳込み層のフィルタ数\n",
    "    \"\"\"\n",
    "    inputs = Input((28,28,1))\n",
    "    x = Convolution2D(filters=num_filters[0], kernel_size=(3,3), padding=\"same\", activation=activation)(inputs)\n",
    "    for i in range(1,num_layer):\n",
    "        x = Convolution2D(filters=num_filters[i], kernel_size=(3,3), padding=\"same\", activation=activation)(x)\n",
    "        \n",
    "    x = GlobalAveragePooling2D()(x)\n",
    "    x = Dense(units=mid_units, activation=activation)(x)\n",
    "    x = Dense(units=10, activation=\"softmax\")(x)\n",
    "    \n",
    "    model = Model(inputs=inputs, outputs=x)\n",
    "    return model"
   ]
  },
  {
   "cell_type": "code",
   "execution_count": 4,
   "metadata": {},
   "outputs": [],
   "source": [
    "def objective(trial):\n",
    "    #セッションのクリア\n",
    "    K.clear_session()\n",
    "    \n",
    "    #最適化するパラメータの設定\n",
    "    #畳込み層の数\n",
    "    num_layer = trial.suggest_int(\"num_layer\", 3, 7)\n",
    "    \n",
    "    #FC層のユニット数\n",
    "    mid_units = int(trial.suggest_discrete_uniform(\"mid_units\", 100, 500, 100))\n",
    "    \n",
    "    #各畳込み層のフィルタ数\n",
    "    num_filters = [int(trial.suggest_discrete_uniform(\"num_filter_\"+str(i), 16, 128, 16)) for i in range(num_layer)]\n",
    "    \n",
    "    #活性化関数\n",
    "    activation = trial.suggest_categorical(\"activation\", [\"relu\", \"sigmoid\", \"tanh\"])\n",
    "    \n",
    "    #optimizer\n",
    "    optimizer = trial.suggest_categorical(\"optimizer\", [\"sgd\", \"adam\", \"rmsprop\"])\n",
    "                                          \n",
    "    model = create_model(num_layer, activation, mid_units, num_filters)\n",
    "    model.compile(optimizer=optimizer,\n",
    "          loss=\"categorical_crossentropy\",\n",
    "          metrics=[\"accuracy\"])\n",
    "    \n",
    "    history = model.fit(train_x, train_y, verbose=0, epochs=5, batch_size=128, validation_split=0.1)\n",
    "    \n",
    "    #検証用データに対する正答率が最大となるハイパーパラメータを求める\n",
    "    return 1 - history.history[\"val_acc\"][-1]"
   ]
  },
  {
   "cell_type": "code",
   "execution_count": 5,
   "metadata": {},
   "outputs": [],
   "source": [
    "study = optuna.create_study()"
   ]
  },
  {
   "cell_type": "code",
   "execution_count": 6,
   "metadata": {},
   "outputs": [
    {
     "name": "stderr",
     "output_type": "stream",
     "text": [
      "[I 2018-12-04 14:40:13,507] Finished a trial resulted in value: 0.40150000031789146. Current best value is 0.40150000031789146 with parameters: {'num_layer': 3, 'mid_units': 200.0, 'num_filter_0': 32.0, 'num_filter_1': 64.0, 'num_filter_2': 112.0, 'activation': 'sigmoid', 'optimizer': 'rmsprop'}.\n",
      "[I 2018-12-04 14:40:35,978] Finished a trial resulted in value: 0.15050000031789146. Current best value is 0.15050000031789146 with parameters: {'num_layer': 5, 'mid_units': 400.0, 'num_filter_0': 32.0, 'num_filter_1': 48.0, 'num_filter_2': 16.0, 'num_filter_3': 32.0, 'num_filter_4': 64.0, 'activation': 'tanh', 'optimizer': 'adam'}.\n",
      "[I 2018-12-04 14:42:06,600] Finished a trial resulted in value: 0.2644999996821086. Current best value is 0.15050000031789146 with parameters: {'num_layer': 5, 'mid_units': 400.0, 'num_filter_0': 32.0, 'num_filter_1': 48.0, 'num_filter_2': 16.0, 'num_filter_3': 32.0, 'num_filter_4': 64.0, 'activation': 'tanh', 'optimizer': 'adam'}.\n",
      "[I 2018-12-04 14:42:58,365] Finished a trial resulted in value: 0.10550000015894567. Current best value is 0.10550000015894567 with parameters: {'num_layer': 7, 'mid_units': 500.0, 'num_filter_0': 96.0, 'num_filter_1': 32.0, 'num_filter_2': 112.0, 'num_filter_3': 112.0, 'num_filter_4': 16.0, 'num_filter_5': 64.0, 'num_filter_6': 32.0, 'activation': 'relu', 'optimizer': 'rmsprop'}.\n",
      "[I 2018-12-04 14:43:42,731] Finished a trial resulted in value: 0.11049999968210855. Current best value is 0.10550000015894567 with parameters: {'num_layer': 7, 'mid_units': 500.0, 'num_filter_0': 96.0, 'num_filter_1': 32.0, 'num_filter_2': 112.0, 'num_filter_3': 112.0, 'num_filter_4': 16.0, 'num_filter_5': 64.0, 'num_filter_6': 32.0, 'activation': 'relu', 'optimizer': 'rmsprop'}.\n",
      "[I 2018-12-04 14:44:26,990] Finished a trial resulted in value: 0.18483333381017053. Current best value is 0.10550000015894567 with parameters: {'num_layer': 7, 'mid_units': 500.0, 'num_filter_0': 96.0, 'num_filter_1': 32.0, 'num_filter_2': 112.0, 'num_filter_3': 112.0, 'num_filter_4': 16.0, 'num_filter_5': 64.0, 'num_filter_6': 32.0, 'activation': 'relu', 'optimizer': 'rmsprop'}.\n",
      "[I 2018-12-04 14:45:00,147] Finished a trial resulted in value: 0.9074999999801318. Current best value is 0.10550000015894567 with parameters: {'num_layer': 7, 'mid_units': 500.0, 'num_filter_0': 96.0, 'num_filter_1': 32.0, 'num_filter_2': 112.0, 'num_filter_3': 112.0, 'num_filter_4': 16.0, 'num_filter_5': 64.0, 'num_filter_6': 32.0, 'activation': 'relu', 'optimizer': 'rmsprop'}.\n",
      "[I 2018-12-04 14:45:36,115] Finished a trial resulted in value: 0.4448333330154419. Current best value is 0.10550000015894567 with parameters: {'num_layer': 7, 'mid_units': 500.0, 'num_filter_0': 96.0, 'num_filter_1': 32.0, 'num_filter_2': 112.0, 'num_filter_3': 112.0, 'num_filter_4': 16.0, 'num_filter_5': 64.0, 'num_filter_6': 32.0, 'activation': 'relu', 'optimizer': 'rmsprop'}.\n",
      "[I 2018-12-04 14:46:30,242] Finished a trial resulted in value: 0.11599999984105425. Current best value is 0.10550000015894567 with parameters: {'num_layer': 7, 'mid_units': 500.0, 'num_filter_0': 96.0, 'num_filter_1': 32.0, 'num_filter_2': 112.0, 'num_filter_3': 112.0, 'num_filter_4': 16.0, 'num_filter_5': 64.0, 'num_filter_6': 32.0, 'activation': 'relu', 'optimizer': 'rmsprop'}.\n",
      "[I 2018-12-04 14:47:10,512] Finished a trial resulted in value: 0.5946666664282481. Current best value is 0.10550000015894567 with parameters: {'num_layer': 7, 'mid_units': 500.0, 'num_filter_0': 96.0, 'num_filter_1': 32.0, 'num_filter_2': 112.0, 'num_filter_3': 112.0, 'num_filter_4': 16.0, 'num_filter_5': 64.0, 'num_filter_6': 32.0, 'activation': 'relu', 'optimizer': 'rmsprop'}.\n",
      "[I 2018-12-04 14:47:56,898] Finished a trial resulted in value: 0.11333333333333329. Current best value is 0.10550000015894567 with parameters: {'num_layer': 7, 'mid_units': 500.0, 'num_filter_0': 96.0, 'num_filter_1': 32.0, 'num_filter_2': 112.0, 'num_filter_3': 112.0, 'num_filter_4': 16.0, 'num_filter_5': 64.0, 'num_filter_6': 32.0, 'activation': 'relu', 'optimizer': 'rmsprop'}.\n",
      "[I 2018-12-04 14:48:46,110] Finished a trial resulted in value: 0.12283333381017048. Current best value is 0.10550000015894567 with parameters: {'num_layer': 7, 'mid_units': 500.0, 'num_filter_0': 96.0, 'num_filter_1': 32.0, 'num_filter_2': 112.0, 'num_filter_3': 112.0, 'num_filter_4': 16.0, 'num_filter_5': 64.0, 'num_filter_6': 32.0, 'activation': 'relu', 'optimizer': 'rmsprop'}.\n",
      "[I 2018-12-04 14:49:40,708] Finished a trial resulted in value: 0.1073333330154419. Current best value is 0.10550000015894567 with parameters: {'num_layer': 7, 'mid_units': 500.0, 'num_filter_0': 96.0, 'num_filter_1': 32.0, 'num_filter_2': 112.0, 'num_filter_3': 112.0, 'num_filter_4': 16.0, 'num_filter_5': 64.0, 'num_filter_6': 32.0, 'activation': 'relu', 'optimizer': 'rmsprop'}.\n",
      "[I 2018-12-04 14:50:46,250] Finished a trial resulted in value: 0.14649999999999996. Current best value is 0.10550000015894567 with parameters: {'num_layer': 7, 'mid_units': 500.0, 'num_filter_0': 96.0, 'num_filter_1': 32.0, 'num_filter_2': 112.0, 'num_filter_3': 112.0, 'num_filter_4': 16.0, 'num_filter_5': 64.0, 'num_filter_6': 32.0, 'activation': 'relu', 'optimizer': 'rmsprop'}.\n",
      "[I 2018-12-04 14:51:38,684] Finished a trial resulted in value: 0.11500000015894574. Current best value is 0.10550000015894567 with parameters: {'num_layer': 7, 'mid_units': 500.0, 'num_filter_0': 96.0, 'num_filter_1': 32.0, 'num_filter_2': 112.0, 'num_filter_3': 112.0, 'num_filter_4': 16.0, 'num_filter_5': 64.0, 'num_filter_6': 32.0, 'activation': 'relu', 'optimizer': 'rmsprop'}.\n",
      "[I 2018-12-04 14:52:50,787] Finished a trial resulted in value: 0.11849999968210856. Current best value is 0.10550000015894567 with parameters: {'num_layer': 7, 'mid_units': 500.0, 'num_filter_0': 96.0, 'num_filter_1': 32.0, 'num_filter_2': 112.0, 'num_filter_3': 112.0, 'num_filter_4': 16.0, 'num_filter_5': 64.0, 'num_filter_6': 32.0, 'activation': 'relu', 'optimizer': 'rmsprop'}.\n",
      "[I 2018-12-04 14:53:42,737] Finished a trial resulted in value: 0.29916666698455807. Current best value is 0.10550000015894567 with parameters: {'num_layer': 7, 'mid_units': 500.0, 'num_filter_0': 96.0, 'num_filter_1': 32.0, 'num_filter_2': 112.0, 'num_filter_3': 112.0, 'num_filter_4': 16.0, 'num_filter_5': 64.0, 'num_filter_6': 32.0, 'activation': 'relu', 'optimizer': 'rmsprop'}.\n",
      "[I 2018-12-04 14:54:25,109] Finished a trial resulted in value: 0.13449999984105432. Current best value is 0.10550000015894567 with parameters: {'num_layer': 7, 'mid_units': 500.0, 'num_filter_0': 96.0, 'num_filter_1': 32.0, 'num_filter_2': 112.0, 'num_filter_3': 112.0, 'num_filter_4': 16.0, 'num_filter_5': 64.0, 'num_filter_6': 32.0, 'activation': 'relu', 'optimizer': 'rmsprop'}.\n",
      "[I 2018-12-04 14:55:26,631] Finished a trial resulted in value: 0.10016666634877525. Current best value is 0.10016666634877525 with parameters: {'num_layer': 7, 'mid_units': 500.0, 'num_filter_0': 80.0, 'num_filter_1': 16.0, 'num_filter_2': 80.0, 'num_filter_3': 128.0, 'num_filter_4': 128.0, 'num_filter_5': 64.0, 'num_filter_6': 16.0, 'activation': 'relu', 'optimizer': 'rmsprop'}.\n",
      "[I 2018-12-04 14:56:29,634] Finished a trial resulted in value: 0.11166666618982946. Current best value is 0.10016666634877525 with parameters: {'num_layer': 7, 'mid_units': 500.0, 'num_filter_0': 80.0, 'num_filter_1': 16.0, 'num_filter_2': 80.0, 'num_filter_3': 128.0, 'num_filter_4': 128.0, 'num_filter_5': 64.0, 'num_filter_6': 16.0, 'activation': 'relu', 'optimizer': 'rmsprop'}.\n",
      "[I 2018-12-04 14:57:34,752] Finished a trial resulted in value: 0.1064999998410543. Current best value is 0.10016666634877525 with parameters: {'num_layer': 7, 'mid_units': 500.0, 'num_filter_0': 80.0, 'num_filter_1': 16.0, 'num_filter_2': 80.0, 'num_filter_3': 128.0, 'num_filter_4': 128.0, 'num_filter_5': 64.0, 'num_filter_6': 16.0, 'activation': 'relu', 'optimizer': 'rmsprop'}.\n",
      "[I 2018-12-04 14:58:37,438] Finished a trial resulted in value: 0.11650000015894568. Current best value is 0.10016666634877525 with parameters: {'num_layer': 7, 'mid_units': 500.0, 'num_filter_0': 80.0, 'num_filter_1': 16.0, 'num_filter_2': 80.0, 'num_filter_3': 128.0, 'num_filter_4': 128.0, 'num_filter_5': 64.0, 'num_filter_6': 16.0, 'activation': 'relu', 'optimizer': 'rmsprop'}.\n",
      "[I 2018-12-04 14:59:39,753] Finished a trial resulted in value: 0.11249999952316281. Current best value is 0.10016666634877525 with parameters: {'num_layer': 7, 'mid_units': 500.0, 'num_filter_0': 80.0, 'num_filter_1': 16.0, 'num_filter_2': 80.0, 'num_filter_3': 128.0, 'num_filter_4': 128.0, 'num_filter_5': 64.0, 'num_filter_6': 16.0, 'activation': 'relu', 'optimizer': 'rmsprop'}.\n",
      "[I 2018-12-04 15:00:41,624] Finished a trial resulted in value: 0.1443333328564962. Current best value is 0.10016666634877525 with parameters: {'num_layer': 7, 'mid_units': 500.0, 'num_filter_0': 80.0, 'num_filter_1': 16.0, 'num_filter_2': 80.0, 'num_filter_3': 128.0, 'num_filter_4': 128.0, 'num_filter_5': 64.0, 'num_filter_6': 16.0, 'activation': 'relu', 'optimizer': 'rmsprop'}.\n",
      "[I 2018-12-04 15:01:43,241] Finished a trial resulted in value: 0.1701666663487752. Current best value is 0.10016666634877525 with parameters: {'num_layer': 7, 'mid_units': 500.0, 'num_filter_0': 80.0, 'num_filter_1': 16.0, 'num_filter_2': 80.0, 'num_filter_3': 128.0, 'num_filter_4': 128.0, 'num_filter_5': 64.0, 'num_filter_6': 16.0, 'activation': 'relu', 'optimizer': 'rmsprop'}.\n",
      "[I 2018-12-04 15:02:47,517] Finished a trial resulted in value: 0.10616666634877525. Current best value is 0.10016666634877525 with parameters: {'num_layer': 7, 'mid_units': 500.0, 'num_filter_0': 80.0, 'num_filter_1': 16.0, 'num_filter_2': 80.0, 'num_filter_3': 128.0, 'num_filter_4': 128.0, 'num_filter_5': 64.0, 'num_filter_6': 16.0, 'activation': 'relu', 'optimizer': 'rmsprop'}.\n",
      "[I 2018-12-04 15:03:50,488] Finished a trial resulted in value: 0.9074999999801318. Current best value is 0.10016666634877525 with parameters: {'num_layer': 7, 'mid_units': 500.0, 'num_filter_0': 80.0, 'num_filter_1': 16.0, 'num_filter_2': 80.0, 'num_filter_3': 128.0, 'num_filter_4': 128.0, 'num_filter_5': 64.0, 'num_filter_6': 16.0, 'activation': 'relu', 'optimizer': 'rmsprop'}.\n",
      "[I 2018-12-04 15:04:38,932] Finished a trial resulted in value: 0.11866666698455808. Current best value is 0.10016666634877525 with parameters: {'num_layer': 7, 'mid_units': 500.0, 'num_filter_0': 80.0, 'num_filter_1': 16.0, 'num_filter_2': 80.0, 'num_filter_3': 128.0, 'num_filter_4': 128.0, 'num_filter_5': 64.0, 'num_filter_6': 16.0, 'activation': 'relu', 'optimizer': 'rmsprop'}.\n",
      "[I 2018-12-04 15:05:08,774] Finished a trial resulted in value: 0.33383333317438757. Current best value is 0.10016666634877525 with parameters: {'num_layer': 7, 'mid_units': 500.0, 'num_filter_0': 80.0, 'num_filter_1': 16.0, 'num_filter_2': 80.0, 'num_filter_3': 128.0, 'num_filter_4': 128.0, 'num_filter_5': 64.0, 'num_filter_6': 16.0, 'activation': 'relu', 'optimizer': 'rmsprop'}.\n",
      "[I 2018-12-04 15:06:08,867] Finished a trial resulted in value: 0.11433333333333329. Current best value is 0.10016666634877525 with parameters: {'num_layer': 7, 'mid_units': 500.0, 'num_filter_0': 80.0, 'num_filter_1': 16.0, 'num_filter_2': 80.0, 'num_filter_3': 128.0, 'num_filter_4': 128.0, 'num_filter_5': 64.0, 'num_filter_6': 16.0, 'activation': 'relu', 'optimizer': 'rmsprop'}.\n",
      "[I 2018-12-04 15:06:38,840] Finished a trial resulted in value: 0.11766666714350382. Current best value is 0.10016666634877525 with parameters: {'num_layer': 7, 'mid_units': 500.0, 'num_filter_0': 80.0, 'num_filter_1': 16.0, 'num_filter_2': 80.0, 'num_filter_3': 128.0, 'num_filter_4': 128.0, 'num_filter_5': 64.0, 'num_filter_6': 16.0, 'activation': 'relu', 'optimizer': 'rmsprop'}.\n",
      "[I 2018-12-04 15:07:48,646] Finished a trial resulted in value: 0.21283333333333332. Current best value is 0.10016666634877525 with parameters: {'num_layer': 7, 'mid_units': 500.0, 'num_filter_0': 80.0, 'num_filter_1': 16.0, 'num_filter_2': 80.0, 'num_filter_3': 128.0, 'num_filter_4': 128.0, 'num_filter_5': 64.0, 'num_filter_6': 16.0, 'activation': 'relu', 'optimizer': 'rmsprop'}.\n",
      "[I 2018-12-04 15:08:25,523] Finished a trial resulted in value: 0.1335000001589457. Current best value is 0.10016666634877525 with parameters: {'num_layer': 7, 'mid_units': 500.0, 'num_filter_0': 80.0, 'num_filter_1': 16.0, 'num_filter_2': 80.0, 'num_filter_3': 128.0, 'num_filter_4': 128.0, 'num_filter_5': 64.0, 'num_filter_6': 16.0, 'activation': 'relu', 'optimizer': 'rmsprop'}.\n",
      "[I 2018-12-04 15:09:41,261] Finished a trial resulted in value: 0.9074999999801318. Current best value is 0.10016666634877525 with parameters: {'num_layer': 7, 'mid_units': 500.0, 'num_filter_0': 80.0, 'num_filter_1': 16.0, 'num_filter_2': 80.0, 'num_filter_3': 128.0, 'num_filter_4': 128.0, 'num_filter_5': 64.0, 'num_filter_6': 16.0, 'activation': 'relu', 'optimizer': 'rmsprop'}.\n",
      "[I 2018-12-04 15:10:18,299] Finished a trial resulted in value: 0.4091666671435038. Current best value is 0.10016666634877525 with parameters: {'num_layer': 7, 'mid_units': 500.0, 'num_filter_0': 80.0, 'num_filter_1': 16.0, 'num_filter_2': 80.0, 'num_filter_3': 128.0, 'num_filter_4': 128.0, 'num_filter_5': 64.0, 'num_filter_6': 16.0, 'activation': 'relu', 'optimizer': 'rmsprop'}.\n",
      "[I 2018-12-04 15:11:16,378] Finished a trial resulted in value: 0.09516666698455811. Current best value is 0.09516666698455811 with parameters: {'num_layer': 6, 'mid_units': 400.0, 'num_filter_0': 64.0, 'num_filter_1': 64.0, 'num_filter_2': 112.0, 'num_filter_3': 96.0, 'num_filter_4': 96.0, 'num_filter_5': 64.0, 'activation': 'relu', 'optimizer': 'rmsprop'}.\n",
      "[I 2018-12-04 15:11:42,764] Finished a trial resulted in value: 0.15416666634877518. Current best value is 0.09516666698455811 with parameters: {'num_layer': 6, 'mid_units': 400.0, 'num_filter_0': 64.0, 'num_filter_1': 64.0, 'num_filter_2': 112.0, 'num_filter_3': 96.0, 'num_filter_4': 96.0, 'num_filter_5': 64.0, 'activation': 'relu', 'optimizer': 'rmsprop'}.\n",
      "[I 2018-12-04 15:12:11,956] Finished a trial resulted in value: 0.19300000047683719. Current best value is 0.09516666698455811 with parameters: {'num_layer': 6, 'mid_units': 400.0, 'num_filter_0': 64.0, 'num_filter_1': 64.0, 'num_filter_2': 112.0, 'num_filter_3': 96.0, 'num_filter_4': 96.0, 'num_filter_5': 64.0, 'activation': 'relu', 'optimizer': 'rmsprop'}.\n",
      "[I 2018-12-04 15:12:41,213] Finished a trial resulted in value: 0.3655000003178914. Current best value is 0.09516666698455811 with parameters: {'num_layer': 6, 'mid_units': 400.0, 'num_filter_0': 64.0, 'num_filter_1': 64.0, 'num_filter_2': 112.0, 'num_filter_3': 96.0, 'num_filter_4': 96.0, 'num_filter_5': 64.0, 'activation': 'relu', 'optimizer': 'rmsprop'}.\n",
      "[I 2018-12-04 15:13:13,922] Finished a trial resulted in value: 0.12983333285649612. Current best value is 0.09516666698455811 with parameters: {'num_layer': 6, 'mid_units': 400.0, 'num_filter_0': 64.0, 'num_filter_1': 64.0, 'num_filter_2': 112.0, 'num_filter_3': 96.0, 'num_filter_4': 96.0, 'num_filter_5': 64.0, 'activation': 'relu', 'optimizer': 'rmsprop'}.\n",
      "[I 2018-12-04 15:13:50,363] Finished a trial resulted in value: 0.43933333285649623. Current best value is 0.09516666698455811 with parameters: {'num_layer': 6, 'mid_units': 400.0, 'num_filter_0': 64.0, 'num_filter_1': 64.0, 'num_filter_2': 112.0, 'num_filter_3': 96.0, 'num_filter_4': 96.0, 'num_filter_5': 64.0, 'activation': 'relu', 'optimizer': 'rmsprop'}.\n",
      "[I 2018-12-04 15:14:50,781] Finished a trial resulted in value: 0.10366666698455806. Current best value is 0.09516666698455811 with parameters: {'num_layer': 6, 'mid_units': 400.0, 'num_filter_0': 64.0, 'num_filter_1': 64.0, 'num_filter_2': 112.0, 'num_filter_3': 96.0, 'num_filter_4': 96.0, 'num_filter_5': 64.0, 'activation': 'relu', 'optimizer': 'rmsprop'}.\n",
      "[I 2018-12-04 15:15:50,842] Finished a trial resulted in value: 0.10400000015894573. Current best value is 0.09516666698455811 with parameters: {'num_layer': 6, 'mid_units': 400.0, 'num_filter_0': 64.0, 'num_filter_1': 64.0, 'num_filter_2': 112.0, 'num_filter_3': 96.0, 'num_filter_4': 96.0, 'num_filter_5': 64.0, 'activation': 'relu', 'optimizer': 'rmsprop'}.\n",
      "[I 2018-12-04 15:16:55,242] Finished a trial resulted in value: 0.20183333381017055. Current best value is 0.09516666698455811 with parameters: {'num_layer': 6, 'mid_units': 400.0, 'num_filter_0': 64.0, 'num_filter_1': 64.0, 'num_filter_2': 112.0, 'num_filter_3': 96.0, 'num_filter_4': 96.0, 'num_filter_5': 64.0, 'activation': 'relu', 'optimizer': 'rmsprop'}.\n",
      "[I 2018-12-04 15:17:50,388] Finished a trial resulted in value: 0.09999999952316285. Current best value is 0.09516666698455811 with parameters: {'num_layer': 6, 'mid_units': 400.0, 'num_filter_0': 64.0, 'num_filter_1': 64.0, 'num_filter_2': 112.0, 'num_filter_3': 96.0, 'num_filter_4': 96.0, 'num_filter_5': 64.0, 'activation': 'relu', 'optimizer': 'rmsprop'}.\n",
      "[I 2018-12-04 15:18:17,374] Finished a trial resulted in value: 0.5923333334128063. Current best value is 0.09516666698455811 with parameters: {'num_layer': 6, 'mid_units': 400.0, 'num_filter_0': 64.0, 'num_filter_1': 64.0, 'num_filter_2': 112.0, 'num_filter_3': 96.0, 'num_filter_4': 96.0, 'num_filter_5': 64.0, 'activation': 'relu', 'optimizer': 'rmsprop'}.\n",
      "[I 2018-12-04 15:18:42,922] Finished a trial resulted in value: 0.1488333338101705. Current best value is 0.09516666698455811 with parameters: {'num_layer': 6, 'mid_units': 400.0, 'num_filter_0': 64.0, 'num_filter_1': 64.0, 'num_filter_2': 112.0, 'num_filter_3': 96.0, 'num_filter_4': 96.0, 'num_filter_5': 64.0, 'activation': 'relu', 'optimizer': 'rmsprop'}.\n",
      "[I 2018-12-04 15:19:11,888] Finished a trial resulted in value: 0.1495000001589457. Current best value is 0.09516666698455811 with parameters: {'num_layer': 6, 'mid_units': 400.0, 'num_filter_0': 64.0, 'num_filter_1': 64.0, 'num_filter_2': 112.0, 'num_filter_3': 96.0, 'num_filter_4': 96.0, 'num_filter_5': 64.0, 'activation': 'relu', 'optimizer': 'rmsprop'}.\n",
      "[I 2018-12-04 15:19:44,809] Finished a trial resulted in value: 0.24616666714350377. Current best value is 0.09516666698455811 with parameters: {'num_layer': 6, 'mid_units': 400.0, 'num_filter_0': 64.0, 'num_filter_1': 64.0, 'num_filter_2': 112.0, 'num_filter_3': 96.0, 'num_filter_4': 96.0, 'num_filter_5': 64.0, 'activation': 'relu', 'optimizer': 'rmsprop'}.\n",
      "[I 2018-12-04 15:20:26,053] Finished a trial resulted in value: 0.14149999968210858. Current best value is 0.09516666698455811 with parameters: {'num_layer': 6, 'mid_units': 400.0, 'num_filter_0': 64.0, 'num_filter_1': 64.0, 'num_filter_2': 112.0, 'num_filter_3': 96.0, 'num_filter_4': 96.0, 'num_filter_5': 64.0, 'activation': 'relu', 'optimizer': 'rmsprop'}.\n",
      "[I 2018-12-04 15:21:07,393] Finished a trial resulted in value: 0.12416666666666665. Current best value is 0.09516666698455811 with parameters: {'num_layer': 6, 'mid_units': 400.0, 'num_filter_0': 64.0, 'num_filter_1': 64.0, 'num_filter_2': 112.0, 'num_filter_3': 96.0, 'num_filter_4': 96.0, 'num_filter_5': 64.0, 'activation': 'relu', 'optimizer': 'rmsprop'}.\n",
      "[I 2018-12-04 15:21:53,730] Finished a trial resulted in value: 0.1114999998410543. Current best value is 0.09516666698455811 with parameters: {'num_layer': 6, 'mid_units': 400.0, 'num_filter_0': 64.0, 'num_filter_1': 64.0, 'num_filter_2': 112.0, 'num_filter_3': 96.0, 'num_filter_4': 96.0, 'num_filter_5': 64.0, 'activation': 'relu', 'optimizer': 'rmsprop'}.\n",
      "[I 2018-12-04 15:22:44,287] Finished a trial resulted in value: 0.3793333328564962. Current best value is 0.09516666698455811 with parameters: {'num_layer': 6, 'mid_units': 400.0, 'num_filter_0': 64.0, 'num_filter_1': 64.0, 'num_filter_2': 112.0, 'num_filter_3': 96.0, 'num_filter_4': 96.0, 'num_filter_5': 64.0, 'activation': 'relu', 'optimizer': 'rmsprop'}.\n",
      "[I 2018-12-04 15:23:35,933] Finished a trial resulted in value: 0.11916666634877526. Current best value is 0.09516666698455811 with parameters: {'num_layer': 6, 'mid_units': 400.0, 'num_filter_0': 64.0, 'num_filter_1': 64.0, 'num_filter_2': 112.0, 'num_filter_3': 96.0, 'num_filter_4': 96.0, 'num_filter_5': 64.0, 'activation': 'relu', 'optimizer': 'rmsprop'}.\n",
      "[I 2018-12-04 15:24:33,221] Finished a trial resulted in value: 0.11416666682561238. Current best value is 0.09516666698455811 with parameters: {'num_layer': 6, 'mid_units': 400.0, 'num_filter_0': 64.0, 'num_filter_1': 64.0, 'num_filter_2': 112.0, 'num_filter_3': 96.0, 'num_filter_4': 96.0, 'num_filter_5': 64.0, 'activation': 'relu', 'optimizer': 'rmsprop'}.\n",
      "[I 2018-12-04 15:25:21,439] Finished a trial resulted in value: 0.11733333301544191. Current best value is 0.09516666698455811 with parameters: {'num_layer': 6, 'mid_units': 400.0, 'num_filter_0': 64.0, 'num_filter_1': 64.0, 'num_filter_2': 112.0, 'num_filter_3': 96.0, 'num_filter_4': 96.0, 'num_filter_5': 64.0, 'activation': 'relu', 'optimizer': 'rmsprop'}.\n",
      "[I 2018-12-04 15:26:19,106] Finished a trial resulted in value: 0.18499999968210856. Current best value is 0.09516666698455811 with parameters: {'num_layer': 6, 'mid_units': 400.0, 'num_filter_0': 64.0, 'num_filter_1': 64.0, 'num_filter_2': 112.0, 'num_filter_3': 96.0, 'num_filter_4': 96.0, 'num_filter_5': 64.0, 'activation': 'relu', 'optimizer': 'rmsprop'}.\n",
      "[I 2018-12-04 15:27:15,110] Finished a trial resulted in value: 0.11150000015894568. Current best value is 0.09516666698455811 with parameters: {'num_layer': 6, 'mid_units': 400.0, 'num_filter_0': 64.0, 'num_filter_1': 64.0, 'num_filter_2': 112.0, 'num_filter_3': 96.0, 'num_filter_4': 96.0, 'num_filter_5': 64.0, 'activation': 'relu', 'optimizer': 'rmsprop'}.\n",
      "[I 2018-12-04 15:28:11,259] Finished a trial resulted in value: 0.3598333331743876. Current best value is 0.09516666698455811 with parameters: {'num_layer': 6, 'mid_units': 400.0, 'num_filter_0': 64.0, 'num_filter_1': 64.0, 'num_filter_2': 112.0, 'num_filter_3': 96.0, 'num_filter_4': 96.0, 'num_filter_5': 64.0, 'activation': 'relu', 'optimizer': 'rmsprop'}.\n",
      "[I 2018-12-04 15:29:04,885] Finished a trial resulted in value: 0.09883333365122482. Current best value is 0.09516666698455811 with parameters: {'num_layer': 6, 'mid_units': 400.0, 'num_filter_0': 64.0, 'num_filter_1': 64.0, 'num_filter_2': 112.0, 'num_filter_3': 96.0, 'num_filter_4': 96.0, 'num_filter_5': 64.0, 'activation': 'relu', 'optimizer': 'rmsprop'}.\n",
      "[I 2018-12-04 15:30:01,665] Finished a trial resulted in value: 0.13499999952316288. Current best value is 0.09516666698455811 with parameters: {'num_layer': 6, 'mid_units': 400.0, 'num_filter_0': 64.0, 'num_filter_1': 64.0, 'num_filter_2': 112.0, 'num_filter_3': 96.0, 'num_filter_4': 96.0, 'num_filter_5': 64.0, 'activation': 'relu', 'optimizer': 'rmsprop'}.\n",
      "[I 2018-12-04 15:30:45,376] Finished a trial resulted in value: 0.11233333317438765. Current best value is 0.09516666698455811 with parameters: {'num_layer': 6, 'mid_units': 400.0, 'num_filter_0': 64.0, 'num_filter_1': 64.0, 'num_filter_2': 112.0, 'num_filter_3': 96.0, 'num_filter_4': 96.0, 'num_filter_5': 64.0, 'activation': 'relu', 'optimizer': 'rmsprop'}.\n",
      "[I 2018-12-04 15:31:44,559] Finished a trial resulted in value: 0.10816666618982951. Current best value is 0.09516666698455811 with parameters: {'num_layer': 6, 'mid_units': 400.0, 'num_filter_0': 64.0, 'num_filter_1': 64.0, 'num_filter_2': 112.0, 'num_filter_3': 96.0, 'num_filter_4': 96.0, 'num_filter_5': 64.0, 'activation': 'relu', 'optimizer': 'rmsprop'}.\n",
      "[I 2018-12-04 15:32:36,988] Finished a trial resulted in value: 0.2731666665077209. Current best value is 0.09516666698455811 with parameters: {'num_layer': 6, 'mid_units': 400.0, 'num_filter_0': 64.0, 'num_filter_1': 64.0, 'num_filter_2': 112.0, 'num_filter_3': 96.0, 'num_filter_4': 96.0, 'num_filter_5': 64.0, 'activation': 'relu', 'optimizer': 'rmsprop'}.\n",
      "[I 2018-12-04 15:33:28,705] Finished a trial resulted in value: 0.10966666714350382. Current best value is 0.09516666698455811 with parameters: {'num_layer': 6, 'mid_units': 400.0, 'num_filter_0': 64.0, 'num_filter_1': 64.0, 'num_filter_2': 112.0, 'num_filter_3': 96.0, 'num_filter_4': 96.0, 'num_filter_5': 64.0, 'activation': 'relu', 'optimizer': 'rmsprop'}.\n",
      "[I 2018-12-04 15:34:05,343] Finished a trial resulted in value: 0.1184999998410543. Current best value is 0.09516666698455811 with parameters: {'num_layer': 6, 'mid_units': 400.0, 'num_filter_0': 64.0, 'num_filter_1': 64.0, 'num_filter_2': 112.0, 'num_filter_3': 96.0, 'num_filter_4': 96.0, 'num_filter_5': 64.0, 'activation': 'relu', 'optimizer': 'rmsprop'}.\n",
      "[I 2018-12-04 15:34:49,838] Finished a trial resulted in value: 0.11700000015894574. Current best value is 0.09516666698455811 with parameters: {'num_layer': 6, 'mid_units': 400.0, 'num_filter_0': 64.0, 'num_filter_1': 64.0, 'num_filter_2': 112.0, 'num_filter_3': 96.0, 'num_filter_4': 96.0, 'num_filter_5': 64.0, 'activation': 'relu', 'optimizer': 'rmsprop'}.\n",
      "[I 2018-12-04 15:35:30,225] Finished a trial resulted in value: 0.11966666682561233. Current best value is 0.09516666698455811 with parameters: {'num_layer': 6, 'mid_units': 400.0, 'num_filter_0': 64.0, 'num_filter_1': 64.0, 'num_filter_2': 112.0, 'num_filter_3': 96.0, 'num_filter_4': 96.0, 'num_filter_5': 64.0, 'activation': 'relu', 'optimizer': 'rmsprop'}.\n",
      "[I 2018-12-04 15:36:11,916] Finished a trial resulted in value: 0.10416666634877525. Current best value is 0.09516666698455811 with parameters: {'num_layer': 6, 'mid_units': 400.0, 'num_filter_0': 64.0, 'num_filter_1': 64.0, 'num_filter_2': 112.0, 'num_filter_3': 96.0, 'num_filter_4': 96.0, 'num_filter_5': 64.0, 'activation': 'relu', 'optimizer': 'rmsprop'}.\n",
      "[I 2018-12-04 15:37:05,560] Finished a trial resulted in value: 0.17883333317438765. Current best value is 0.09516666698455811 with parameters: {'num_layer': 6, 'mid_units': 400.0, 'num_filter_0': 64.0, 'num_filter_1': 64.0, 'num_filter_2': 112.0, 'num_filter_3': 96.0, 'num_filter_4': 96.0, 'num_filter_5': 64.0, 'activation': 'relu', 'optimizer': 'rmsprop'}.\n",
      "[I 2018-12-04 15:37:57,522] Finished a trial resulted in value: 0.09516666698455811. Current best value is 0.09516666698455811 with parameters: {'num_layer': 6, 'mid_units': 400.0, 'num_filter_0': 64.0, 'num_filter_1': 64.0, 'num_filter_2': 112.0, 'num_filter_3': 96.0, 'num_filter_4': 96.0, 'num_filter_5': 64.0, 'activation': 'relu', 'optimizer': 'rmsprop'}.\n",
      "[I 2018-12-04 15:38:41,883] Finished a trial resulted in value: 0.10166666714350381. Current best value is 0.09516666698455811 with parameters: {'num_layer': 6, 'mid_units': 400.0, 'num_filter_0': 64.0, 'num_filter_1': 64.0, 'num_filter_2': 112.0, 'num_filter_3': 96.0, 'num_filter_4': 96.0, 'num_filter_5': 64.0, 'activation': 'relu', 'optimizer': 'rmsprop'}.\n",
      "[I 2018-12-04 15:39:32,450] Finished a trial resulted in value: 0.11566666650772095. Current best value is 0.09516666698455811 with parameters: {'num_layer': 6, 'mid_units': 400.0, 'num_filter_0': 64.0, 'num_filter_1': 64.0, 'num_filter_2': 112.0, 'num_filter_3': 96.0, 'num_filter_4': 96.0, 'num_filter_5': 64.0, 'activation': 'relu', 'optimizer': 'rmsprop'}.\n",
      "[I 2018-12-04 15:40:22,530] Finished a trial resulted in value: 0.10633333365122477. Current best value is 0.09516666698455811 with parameters: {'num_layer': 6, 'mid_units': 400.0, 'num_filter_0': 64.0, 'num_filter_1': 64.0, 'num_filter_2': 112.0, 'num_filter_3': 96.0, 'num_filter_4': 96.0, 'num_filter_5': 64.0, 'activation': 'relu', 'optimizer': 'rmsprop'}.\n",
      "[I 2018-12-04 15:41:16,020] Finished a trial resulted in value: 0.3763333330154419. Current best value is 0.09516666698455811 with parameters: {'num_layer': 6, 'mid_units': 400.0, 'num_filter_0': 64.0, 'num_filter_1': 64.0, 'num_filter_2': 112.0, 'num_filter_3': 96.0, 'num_filter_4': 96.0, 'num_filter_5': 64.0, 'activation': 'relu', 'optimizer': 'rmsprop'}.\n",
      "[I 2018-12-04 15:42:11,297] Finished a trial resulted in value: 0.10383333365122482. Current best value is 0.09516666698455811 with parameters: {'num_layer': 6, 'mid_units': 400.0, 'num_filter_0': 64.0, 'num_filter_1': 64.0, 'num_filter_2': 112.0, 'num_filter_3': 96.0, 'num_filter_4': 96.0, 'num_filter_5': 64.0, 'activation': 'relu', 'optimizer': 'rmsprop'}.\n",
      "[I 2018-12-04 15:43:05,969] Finished a trial resulted in value: 0.10200000031789147. Current best value is 0.09516666698455811 with parameters: {'num_layer': 6, 'mid_units': 400.0, 'num_filter_0': 64.0, 'num_filter_1': 64.0, 'num_filter_2': 112.0, 'num_filter_3': 96.0, 'num_filter_4': 96.0, 'num_filter_5': 64.0, 'activation': 'relu', 'optimizer': 'rmsprop'}.\n",
      "[I 2018-12-04 15:43:47,936] Finished a trial resulted in value: 0.12566666714350383. Current best value is 0.09516666698455811 with parameters: {'num_layer': 6, 'mid_units': 400.0, 'num_filter_0': 64.0, 'num_filter_1': 64.0, 'num_filter_2': 112.0, 'num_filter_3': 96.0, 'num_filter_4': 96.0, 'num_filter_5': 64.0, 'activation': 'relu', 'optimizer': 'rmsprop'}.\n",
      "[I 2018-12-04 15:44:44,234] Finished a trial resulted in value: 0.31583333349227904. Current best value is 0.09516666698455811 with parameters: {'num_layer': 6, 'mid_units': 400.0, 'num_filter_0': 64.0, 'num_filter_1': 64.0, 'num_filter_2': 112.0, 'num_filter_3': 96.0, 'num_filter_4': 96.0, 'num_filter_5': 64.0, 'activation': 'relu', 'optimizer': 'rmsprop'}.\n",
      "[I 2018-12-04 15:45:38,982] Finished a trial resulted in value: 0.11150000015894568. Current best value is 0.09516666698455811 with parameters: {'num_layer': 6, 'mid_units': 400.0, 'num_filter_0': 64.0, 'num_filter_1': 64.0, 'num_filter_2': 112.0, 'num_filter_3': 96.0, 'num_filter_4': 96.0, 'num_filter_5': 64.0, 'activation': 'relu', 'optimizer': 'rmsprop'}.\n",
      "[I 2018-12-04 15:46:26,338] Finished a trial resulted in value: 0.3053333336512247. Current best value is 0.09516666698455811 with parameters: {'num_layer': 6, 'mid_units': 400.0, 'num_filter_0': 64.0, 'num_filter_1': 64.0, 'num_filter_2': 112.0, 'num_filter_3': 96.0, 'num_filter_4': 96.0, 'num_filter_5': 64.0, 'activation': 'relu', 'optimizer': 'rmsprop'}.\n",
      "[I 2018-12-04 15:47:18,390] Finished a trial resulted in value: 0.09949999984105429. Current best value is 0.09516666698455811 with parameters: {'num_layer': 6, 'mid_units': 400.0, 'num_filter_0': 64.0, 'num_filter_1': 64.0, 'num_filter_2': 112.0, 'num_filter_3': 96.0, 'num_filter_4': 96.0, 'num_filter_5': 64.0, 'activation': 'relu', 'optimizer': 'rmsprop'}.\n",
      "[I 2018-12-04 15:48:04,588] Finished a trial resulted in value: 0.10700000015894573. Current best value is 0.09516666698455811 with parameters: {'num_layer': 6, 'mid_units': 400.0, 'num_filter_0': 64.0, 'num_filter_1': 64.0, 'num_filter_2': 112.0, 'num_filter_3': 96.0, 'num_filter_4': 96.0, 'num_filter_5': 64.0, 'activation': 'relu', 'optimizer': 'rmsprop'}.\n",
      "[I 2018-12-04 15:48:57,833] Finished a trial resulted in value: 0.2693333336512248. Current best value is 0.09516666698455811 with parameters: {'num_layer': 6, 'mid_units': 400.0, 'num_filter_0': 64.0, 'num_filter_1': 64.0, 'num_filter_2': 112.0, 'num_filter_3': 96.0, 'num_filter_4': 96.0, 'num_filter_5': 64.0, 'activation': 'relu', 'optimizer': 'rmsprop'}.\n",
      "[I 2018-12-04 15:49:55,781] Finished a trial resulted in value: 0.09450000031789141. Current best value is 0.09450000031789141 with parameters: {'num_layer': 6, 'mid_units': 400.0, 'num_filter_0': 80.0, 'num_filter_1': 48.0, 'num_filter_2': 80.0, 'num_filter_3': 96.0, 'num_filter_4': 96.0, 'num_filter_5': 80.0, 'activation': 'relu', 'optimizer': 'rmsprop'}.\n",
      "[I 2018-12-04 15:50:50,615] Finished a trial resulted in value: 0.12266666714350383. Current best value is 0.09450000031789141 with parameters: {'num_layer': 6, 'mid_units': 400.0, 'num_filter_0': 80.0, 'num_filter_1': 48.0, 'num_filter_2': 80.0, 'num_filter_3': 96.0, 'num_filter_4': 96.0, 'num_filter_5': 80.0, 'activation': 'relu', 'optimizer': 'rmsprop'}.\n",
      "[I 2018-12-04 15:52:02,409] Finished a trial resulted in value: 0.10500000015894573. Current best value is 0.09450000031789141 with parameters: {'num_layer': 6, 'mid_units': 400.0, 'num_filter_0': 80.0, 'num_filter_1': 48.0, 'num_filter_2': 80.0, 'num_filter_3': 96.0, 'num_filter_4': 96.0, 'num_filter_5': 80.0, 'activation': 'relu', 'optimizer': 'rmsprop'}.\n",
      "[I 2018-12-04 15:53:12,646] Finished a trial resulted in value: 0.10183333301544184. Current best value is 0.09450000031789141 with parameters: {'num_layer': 6, 'mid_units': 400.0, 'num_filter_0': 80.0, 'num_filter_1': 48.0, 'num_filter_2': 80.0, 'num_filter_3': 96.0, 'num_filter_4': 96.0, 'num_filter_5': 80.0, 'activation': 'relu', 'optimizer': 'rmsprop'}.\n",
      "[I 2018-12-04 15:54:05,562] Finished a trial resulted in value: 0.1318333334922791. Current best value is 0.09450000031789141 with parameters: {'num_layer': 6, 'mid_units': 400.0, 'num_filter_0': 80.0, 'num_filter_1': 48.0, 'num_filter_2': 80.0, 'num_filter_3': 96.0, 'num_filter_4': 96.0, 'num_filter_5': 80.0, 'activation': 'relu', 'optimizer': 'rmsprop'}.\n",
      "[I 2018-12-04 15:54:56,584] Finished a trial resulted in value: 0.30266666634877526. Current best value is 0.09450000031789141 with parameters: {'num_layer': 6, 'mid_units': 400.0, 'num_filter_0': 80.0, 'num_filter_1': 48.0, 'num_filter_2': 80.0, 'num_filter_3': 96.0, 'num_filter_4': 96.0, 'num_filter_5': 80.0, 'activation': 'relu', 'optimizer': 'rmsprop'}.\n",
      "[I 2018-12-04 15:55:59,919] Finished a trial resulted in value: 0.09500000031789146. Current best value is 0.09450000031789141 with parameters: {'num_layer': 6, 'mid_units': 400.0, 'num_filter_0': 80.0, 'num_filter_1': 48.0, 'num_filter_2': 80.0, 'num_filter_3': 96.0, 'num_filter_4': 96.0, 'num_filter_5': 80.0, 'activation': 'relu', 'optimizer': 'rmsprop'}.\n",
      "[I 2018-12-04 15:56:46,890] Finished a trial resulted in value: 0.12066666682561233. Current best value is 0.09450000031789141 with parameters: {'num_layer': 6, 'mid_units': 400.0, 'num_filter_0': 80.0, 'num_filter_1': 48.0, 'num_filter_2': 80.0, 'num_filter_3': 96.0, 'num_filter_4': 96.0, 'num_filter_5': 80.0, 'activation': 'relu', 'optimizer': 'rmsprop'}.\n",
      "[I 2018-12-04 15:57:48,575] Finished a trial resulted in value: 0.09483333365122482. Current best value is 0.09450000031789141 with parameters: {'num_layer': 6, 'mid_units': 400.0, 'num_filter_0': 80.0, 'num_filter_1': 48.0, 'num_filter_2': 80.0, 'num_filter_3': 96.0, 'num_filter_4': 96.0, 'num_filter_5': 80.0, 'activation': 'relu', 'optimizer': 'rmsprop'}.\n",
      "[I 2018-12-04 15:58:46,705] Finished a trial resulted in value: 0.12349999984105431. Current best value is 0.09450000031789141 with parameters: {'num_layer': 6, 'mid_units': 400.0, 'num_filter_0': 80.0, 'num_filter_1': 48.0, 'num_filter_2': 80.0, 'num_filter_3': 96.0, 'num_filter_4': 96.0, 'num_filter_5': 80.0, 'activation': 'relu', 'optimizer': 'rmsprop'}.\n",
      "[I 2018-12-04 15:59:45,980] Finished a trial resulted in value: 0.1271666668256124. Current best value is 0.09450000031789141 with parameters: {'num_layer': 6, 'mid_units': 400.0, 'num_filter_0': 80.0, 'num_filter_1': 48.0, 'num_filter_2': 80.0, 'num_filter_3': 96.0, 'num_filter_4': 96.0, 'num_filter_5': 80.0, 'activation': 'relu', 'optimizer': 'rmsprop'}.\n",
      "[I 2018-12-04 16:00:46,174] Finished a trial resulted in value: 0.36966666650772095. Current best value is 0.09450000031789141 with parameters: {'num_layer': 6, 'mid_units': 400.0, 'num_filter_0': 80.0, 'num_filter_1': 48.0, 'num_filter_2': 80.0, 'num_filter_3': 96.0, 'num_filter_4': 96.0, 'num_filter_5': 80.0, 'activation': 'relu', 'optimizer': 'rmsprop'}.\n",
      "[I 2018-12-04 16:01:28,884] Finished a trial resulted in value: 0.22483333333333333. Current best value is 0.09450000031789141 with parameters: {'num_layer': 6, 'mid_units': 400.0, 'num_filter_0': 80.0, 'num_filter_1': 48.0, 'num_filter_2': 80.0, 'num_filter_3': 96.0, 'num_filter_4': 96.0, 'num_filter_5': 80.0, 'activation': 'relu', 'optimizer': 'rmsprop'}.\n",
      "[I 2018-12-04 16:02:29,312] Finished a trial resulted in value: 0.1246666666666667. Current best value is 0.09450000031789141 with parameters: {'num_layer': 6, 'mid_units': 400.0, 'num_filter_0': 80.0, 'num_filter_1': 48.0, 'num_filter_2': 80.0, 'num_filter_3': 96.0, 'num_filter_4': 96.0, 'num_filter_5': 80.0, 'activation': 'relu', 'optimizer': 'rmsprop'}.\n",
      "[I 2018-12-04 16:03:27,951] Finished a trial resulted in value: 0.11699999968210861. Current best value is 0.09450000031789141 with parameters: {'num_layer': 6, 'mid_units': 400.0, 'num_filter_0': 80.0, 'num_filter_1': 48.0, 'num_filter_2': 80.0, 'num_filter_3': 96.0, 'num_filter_4': 96.0, 'num_filter_5': 80.0, 'activation': 'relu', 'optimizer': 'rmsprop'}.\n",
      "[I 2018-12-04 16:04:27,360] Finished a trial resulted in value: 0.12449999952316282. Current best value is 0.09450000031789141 with parameters: {'num_layer': 6, 'mid_units': 400.0, 'num_filter_0': 80.0, 'num_filter_1': 48.0, 'num_filter_2': 80.0, 'num_filter_3': 96.0, 'num_filter_4': 96.0, 'num_filter_5': 80.0, 'activation': 'relu', 'optimizer': 'rmsprop'}.\n"
     ]
    }
   ],
   "source": [
    "study.optimize(objective, n_trials=100)"
   ]
  },
  {
   "cell_type": "code",
   "execution_count": 7,
   "metadata": {},
   "outputs": [
    {
     "data": {
      "text/plain": [
       "{'activation': 'relu',\n",
       " 'mid_units': 400.0,\n",
       " 'num_filter_0': 80.0,\n",
       " 'num_filter_1': 48.0,\n",
       " 'num_filter_2': 80.0,\n",
       " 'num_filter_3': 96.0,\n",
       " 'num_filter_4': 96.0,\n",
       " 'num_filter_5': 80.0,\n",
       " 'num_layer': 6,\n",
       " 'optimizer': 'rmsprop'}"
      ]
     },
     "execution_count": 7,
     "metadata": {},
     "output_type": "execute_result"
    }
   ],
   "source": [
    "study.best_params"
   ]
  },
  {
   "cell_type": "code",
   "execution_count": 8,
   "metadata": {},
   "outputs": [
    {
     "data": {
      "text/plain": [
       "0.09450000031789141"
      ]
     },
     "execution_count": 8,
     "metadata": {},
     "output_type": "execute_result"
    }
   ],
   "source": [
    "study.best_value"
   ]
  }
 ],
 "metadata": {
  "kernelspec": {
   "display_name": "Python 3",
   "language": "python",
   "name": "python3"
  },
  "language_info": {
   "codemirror_mode": {
    "name": "ipython",
    "version": 3
   },
   "file_extension": ".py",
   "mimetype": "text/x-python",
   "name": "python",
   "nbconvert_exporter": "python",
   "pygments_lexer": "ipython3",
   "version": "3.6.4"
  }
 },
 "nbformat": 4,
 "nbformat_minor": 2
}
